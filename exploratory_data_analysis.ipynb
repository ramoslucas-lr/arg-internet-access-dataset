{
 "cells": [
  {
   "cell_type": "markdown",
   "metadata": {},
   "source": [
    "# Tratamento de dados do World Bank\n",
    "\n",
    "Este notebook Jupyter realiza o tratamento de um dataset do Banco Mundial, transformando-o de um formato largo para um formato longo e, em seguida, pivotando-o para um formato largo com indicadores como colunas."
   ]
  },
  {
   "cell_type": "markdown",
   "metadata": {},
   "source": [
    "## Importações das bibliotecas\n",
    "\n",
    "As seguintes bibliotecas são importadas para a manipulação de dados:\n",
    "\n",
    "-   `numpy` para operações numéricas.\n",
    "-   `pandas` para manipulação de DataFrames.\n",
    "-   `re` para Regex."
   ]
  },
  {
   "cell_type": "code",
   "execution_count": 2,
   "metadata": {},
   "outputs": [],
   "source": [
    "import numpy as np\n",
    "import pandas as pd\n",
    "import re"
   ]
  },
  {
   "cell_type": "markdown",
   "metadata": {},
   "source": [
    "## Leitura e Limpeza Inicial dos Dados\n",
    "\n",
    "1.  **Leitura do Dataset:**\n",
    "    O dataset bruto é lido do arquivo `worldbank_data.csv` usando `pd.read_csv()`.\n",
    "2.  **Remoção da Coluna 'Series Code':**\n",
    "    A coluna 'Series Code' é removida, pois não é necessária para a análise.\n",
    "3.  **Extração dos Anos:**\n",
    "    Os anos são extraídos dos nomes das colunas usando expressões regulares.\n",
    "4.  **Renomeação das Colunas:**\n",
    "    As colunas são renomeadas para facilitar a manipulação e o entendimento.\n"
   ]
  },
  {
   "cell_type": "code",
   "execution_count": 3,
   "metadata": {},
   "outputs": [],
   "source": [
    "raw_df = pd.read_csv('datasets/worldbank_data.csv')\n",
    "raw_df.drop(columns='Series Code', inplace=True)\n",
    "year_columns = [re.search(r'\\d{4}', col).group(0) for col in raw_df.columns[3:]]\n",
    "id_columns = [\"country_name\", \"country_code\", \"indicator_name\"]\n",
    "raw_df.columns= id_columns + year_columns"
   ]
  },
  {
   "cell_type": "markdown",
   "metadata": {},
   "source": [
    "## Transformação dos Dados para o Formato Longo\n",
    "\n",
    "1.  **Melt do DataFrame:**\n",
    "    O DataFrame é transformado para o formato longo usando `pd.melt()`, com as colunas de identificação como `id_vars`.\n",
    "2.  **Remoção de Duplicatas:**\n",
    "    As linhas duplicadas são removidas para garantir a integridade dos dados."
   ]
  },
  {
   "cell_type": "code",
   "execution_count": 4,
   "metadata": {},
   "outputs": [],
   "source": [
    "df_melted = pd.melt(\n",
    "    raw_df,\n",
    "    id_vars=id_columns,\n",
    "    var_name='year',\n",
    "    value_name='indicator_value'\n",
    ")\n",
    "\n",
    "df_melted = df_melted.drop_duplicates(\n",
    "    subset=['country_name', 'country_code', 'year', 'indicator_name']\n",
    ")"
   ]
  },
  {
   "cell_type": "markdown",
   "metadata": {},
   "source": [
    "## Pivotagem dos Dados para o Formato Largo\n",
    "\n",
    "1.  **Pivot do DataFrame:**\n",
    "    O DataFrame é pivotado para o formato largo usando `pd.pivot()`, com os indicadores como colunas.\n",
    "2.  **Substituição de NaN por None:**\n",
    "    Os valores NaN são substituídos por None para evitar problemas com bancos de dados."
   ]
  },
  {
   "cell_type": "code",
   "execution_count": 5,
   "metadata": {},
   "outputs": [],
   "source": [
    "df_pivoted = df_melted.pivot(\n",
    "    index=['country_name', 'country_code', 'year'],\n",
    "    columns='indicator_name',\n",
    "    values='indicator_value'\n",
    ").reset_index().rename_axis(None, axis=1)\n",
    "\n",
    "df_pivoted = df_pivoted.replace({np.nan: None})\n"
   ]
  },
  {
   "cell_type": "markdown",
   "metadata": {},
   "source": [
    "## Salvamento dos Dados Tratados\n",
    "\n",
    "O DataFrame tratado é salvo em um arquivo CSV `treated_dataset.csv` usando `pandas.to_csv()`."
   ]
  },
  {
   "cell_type": "code",
   "execution_count": 6,
   "metadata": {},
   "outputs": [],
   "source": [
    "df_pivoted.to_csv('treated_dataset.csv', index=False)"
   ]
  }
 ],
 "metadata": {
  "kernelspec": {
   "display_name": "Python 3",
   "language": "python",
   "name": "python3"
  },
  "language_info": {
   "codemirror_mode": {
    "name": "ipython",
    "version": 3
   },
   "file_extension": ".py",
   "mimetype": "text/x-python",
   "name": "python",
   "nbconvert_exporter": "python",
   "pygments_lexer": "ipython3",
   "version": "3.13.2"
  }
 },
 "nbformat": 4,
 "nbformat_minor": 2
}
